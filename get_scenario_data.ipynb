{
 "cells": [
  {
   "cell_type": "code",
   "execution_count": 18,
   "metadata": {},
   "outputs": [
    {
     "name": "stdout",
     "output_type": "stream",
     "text": [
      "Dataset from s3://ncar-na-cordex/day/prec.rcp45.day.NAM-44i.raw.zarr loaded successfully\n",
      "Dataset from s3://ncar-na-cordex/day/prec.rcp85.day.NAM-44i.raw.zarr loaded successfully\n",
      "Dataset from s3://ncar-na-cordex/day/temp.rcp45.day.NAM-44i.raw.zarr loaded successfully\n",
      "Dataset from s3://ncar-na-cordex/day/temp.rcp85.day.NAM-44i.raw.zarr loaded successfully\n"
     ]
    }
   ],
   "source": [
    "import intake\n",
    "import numpy as np\n",
    "import pandas as pd\n",
    "\n",
    "# need AWS access keys set up in environ to pull zarr files\n",
    "zarr_urls = {\n",
    "    'rcp45_prec':'s3://ncar-na-cordex/day/prec.rcp45.day.NAM-44i.raw.zarr',\n",
    "    'rcp85_prec':'s3://ncar-na-cordex/day/prec.rcp85.day.NAM-44i.raw.zarr',\n",
    "    'rcp45_temp':'s3://ncar-na-cordex/day/temp.rcp45.day.NAM-44i.raw.zarr',\n",
    "    'rcp85_temp':'s3://ncar-na-cordex/day/temp.rcp85.day.NAM-44i.raw.zarr'\n",
    "}\n",
    "\n",
    "datasets = {}\n",
    "\n",
    "for key, url in zarr_urls.items():\n",
    "\n",
    "    zarr_cat = intake.open_zarr(url)\n",
    "    zarr_source = zarr_cat()\n",
    "    \n",
    "    try:\n",
    "        # Attempt to load the dataset\n",
    "        dataset = zarr_source.to_dask()\n",
    "        datasets[key] = dataset\n",
    "        print(f\"Dataset from {url} loaded successfully\")\n",
    "\n",
    "    except Exception as e:\n",
    "        print(f\"Error loading dataset from {url}: {e}\")"
   ]
  },
  {
   "cell_type": "code",
   "execution_count": 59,
   "metadata": {},
   "outputs": [],
   "source": [
    "simulations = ['CanESM2.CanRCM4', 'CanESM2.RCA4']\n",
    "\n",
    "# Get dataset, filter, aggregate with xarray\n",
    "rcp45_prec_ds = (\n",
    "    datasets.get('rcp45_prec')\n",
    "        .sel(\n",
    "            lat = slice(37,41), \n",
    "            lon = slice(-105,-102), \n",
    "            member_id = simulations, \n",
    "            bnds = 0)\n",
    "        .drop('time_bnds')\n",
    "        .mean(dim=['lat', 'lon'])\n",
    ")\n",
    "\n",
    "rcp85_prec_ds = (\n",
    "    datasets.get('rcp85_prec')\n",
    "        .sel(\n",
    "            lat = slice(37,41), \n",
    "            lon = slice(-105,-102), \n",
    "            member_id = simulations, \n",
    "            bnds = 0)\n",
    "        .drop('time_bnds')\n",
    "        .mean(dim=['lat', 'lon'])\n",
    ")\n",
    "\n",
    "rcp45_temp_ds = (\n",
    "    datasets.get('rcp45_temp')\n",
    "        .sel(\n",
    "            lat = slice(37,41), \n",
    "            lon = slice(-105,-102), \n",
    "            member_id = simulations, \n",
    "            bnds = 0)\n",
    "        .drop('time_bnds')\n",
    "        .mean(dim=['lat', 'lon'])\n",
    ")\n",
    "\n",
    "rcp85_temp_ds = (\n",
    "    datasets.get('rcp85_temp')\n",
    "        .sel(\n",
    "            lat = slice(37,41), \n",
    "            lon = slice(-105,-102), \n",
    "            member_id = simulations,\n",
    "              bnds = 0)\n",
    "        .drop('time_bnds')\n",
    "        .mean(dim=['lat', 'lon'])\n",
    ")\n",
    "\n",
    "ds_dict = {\n",
    "    'rcp45_prec_ds':rcp45_prec_ds,\n",
    "    'rcp45_temp_ds':rcp45_temp_ds,\n",
    "    'rcp85_prec_ds':rcp85_prec_ds,\n",
    "    'rcp85_temp_ds':rcp85_temp_ds\n",
    "}"
   ]
  },
  {
   "cell_type": "code",
   "execution_count": 83,
   "metadata": {},
   "outputs": [],
   "source": [
    "for name, ds in ds_dict.items():\n",
    "    for id in ds.member_id:\n",
    "        (ds.sel(\n",
    "            member_id = id)\n",
    "            .drop_vars('member_id')\n",
    "            .to_dataframe()\n",
    "            .to_parquet(f'data/scenarios/{name}_{id.values}.parquet'))"
   ]
  }
 ],
 "metadata": {
  "kernelspec": {
   "display_name": "Python 3",
   "language": "python",
   "name": "python3"
  },
  "language_info": {
   "codemirror_mode": {
    "name": "ipython",
    "version": 3
   },
   "file_extension": ".py",
   "mimetype": "text/x-python",
   "name": "python",
   "nbconvert_exporter": "python",
   "pygments_lexer": "ipython3",
   "version": "3.11.3"
  }
 },
 "nbformat": 4,
 "nbformat_minor": 2
}
