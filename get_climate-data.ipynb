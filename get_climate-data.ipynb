{
 "cells": [
  {
   "cell_type": "markdown",
   "metadata": {},
   "source": [
    "## CO, Climate Data"
   ]
  },
  {
   "cell_type": "code",
   "execution_count": 1,
   "metadata": {},
   "outputs": [],
   "source": [
    "import pandas as pd"
   ]
  },
  {
   "cell_type": "markdown",
   "metadata": {},
   "source": [
    "### Station: Denver International Airport, CO US (72565003017) for Muddy Creek Well gwl data\n",
    "\n",
    "### Station: Burlington Carson Airport, CO US (72468903026.csv) Kit Carson Well gwl data\n",
    "\n",
    "### Station: Pueblo Memorial Airport, CO US (72464093058.csv) Pueblo Well gwl data"
   ]
  },
  {
   "cell_type": "code",
   "execution_count": 3,
   "metadata": {},
   "outputs": [],
   "source": [
    "stations = {\n",
    "    'muddy_creek_station_id': '72565003017',\n",
    "'kit_carson_station_id': '72468903026',\n",
    "'pueblo_station_id':'72464093058'\n",
    "}\n",
    "\n",
    "years = ['2015', '2016', '2017', '2018', '2019', '2020', '2021', '2022']"
   ]
  },
  {
   "cell_type": "code",
   "execution_count": 3,
   "metadata": {},
   "outputs": [
    {
     "name": "stderr",
     "output_type": "stream",
     "text": [
      "/var/folders/zx/w0khk41x0xl08sdt7j90tmr80000gn/T/ipykernel_10853/4196643420.py:10: DtypeWarning: Columns (8,17,23,64) have mixed types. Specify dtype option on import or set low_memory=False.\n",
      "  data_list.append(pd.read_csv(file_name))\n",
      "/var/folders/zx/w0khk41x0xl08sdt7j90tmr80000gn/T/ipykernel_10853/4196643420.py:10: DtypeWarning: Columns (62,64,78) have mixed types. Specify dtype option on import or set low_memory=False.\n",
      "  data_list.append(pd.read_csv(file_name))\n",
      "/var/folders/zx/w0khk41x0xl08sdt7j90tmr80000gn/T/ipykernel_10853/4196643420.py:10: DtypeWarning: Columns (17,62) have mixed types. Specify dtype option on import or set low_memory=False.\n",
      "  data_list.append(pd.read_csv(file_name))\n",
      "/var/folders/zx/w0khk41x0xl08sdt7j90tmr80000gn/T/ipykernel_10853/4196643420.py:10: DtypeWarning: Columns (64) have mixed types. Specify dtype option on import or set low_memory=False.\n",
      "  data_list.append(pd.read_csv(file_name))\n",
      "/var/folders/zx/w0khk41x0xl08sdt7j90tmr80000gn/T/ipykernel_10853/4196643420.py:10: DtypeWarning: Columns (17,22) have mixed types. Specify dtype option on import or set low_memory=False.\n",
      "  data_list.append(pd.read_csv(file_name))\n",
      "/var/folders/zx/w0khk41x0xl08sdt7j90tmr80000gn/T/ipykernel_10853/4196643420.py:10: DtypeWarning: Columns (8,17,18,64,78) have mixed types. Specify dtype option on import or set low_memory=False.\n",
      "  data_list.append(pd.read_csv(file_name))\n",
      "/var/folders/zx/w0khk41x0xl08sdt7j90tmr80000gn/T/ipykernel_10853/4196643420.py:10: DtypeWarning: Columns (17,19,41) have mixed types. Specify dtype option on import or set low_memory=False.\n",
      "  data_list.append(pd.read_csv(file_name))\n",
      "/var/folders/zx/w0khk41x0xl08sdt7j90tmr80000gn/T/ipykernel_10853/4196643420.py:10: DtypeWarning: Columns (8,17,18) have mixed types. Specify dtype option on import or set low_memory=False.\n",
      "  data_list.append(pd.read_csv(file_name))\n"
     ]
    },
    {
     "name": "stdout",
     "output_type": "stream",
     "text": [
      "File data/climate/df_climate_muddy_creek is written!!!\n"
     ]
    },
    {
     "name": "stderr",
     "output_type": "stream",
     "text": [
      "/var/folders/zx/w0khk41x0xl08sdt7j90tmr80000gn/T/ipykernel_10853/4196643420.py:10: DtypeWarning: Columns (8,9,17,18,42,43,44,105,106,109,111) have mixed types. Specify dtype option on import or set low_memory=False.\n",
      "  data_list.append(pd.read_csv(file_name))\n",
      "/var/folders/zx/w0khk41x0xl08sdt7j90tmr80000gn/T/ipykernel_10853/4196643420.py:10: DtypeWarning: Columns (8,17,18,23,37,44) have mixed types. Specify dtype option on import or set low_memory=False.\n",
      "  data_list.append(pd.read_csv(file_name))\n",
      "/var/folders/zx/w0khk41x0xl08sdt7j90tmr80000gn/T/ipykernel_10853/4196643420.py:10: DtypeWarning: Columns (8,9,17,18,23,47,48,52,106,109,111) have mixed types. Specify dtype option on import or set low_memory=False.\n",
      "  data_list.append(pd.read_csv(file_name))\n",
      "/var/folders/zx/w0khk41x0xl08sdt7j90tmr80000gn/T/ipykernel_10853/4196643420.py:10: DtypeWarning: Columns (8,17,18,27,33,34,35,36,37,47,49,111) have mixed types. Specify dtype option on import or set low_memory=False.\n",
      "  data_list.append(pd.read_csv(file_name))\n",
      "/var/folders/zx/w0khk41x0xl08sdt7j90tmr80000gn/T/ipykernel_10853/4196643420.py:10: DtypeWarning: Columns (17,18,23,43,49) have mixed types. Specify dtype option on import or set low_memory=False.\n",
      "  data_list.append(pd.read_csv(file_name))\n",
      "/var/folders/zx/w0khk41x0xl08sdt7j90tmr80000gn/T/ipykernel_10853/4196643420.py:10: DtypeWarning: Columns (8,17,18,37,44,47,49) have mixed types. Specify dtype option on import or set low_memory=False.\n",
      "  data_list.append(pd.read_csv(file_name))\n",
      "/var/folders/zx/w0khk41x0xl08sdt7j90tmr80000gn/T/ipykernel_10853/4196643420.py:10: DtypeWarning: Columns (8,9,17,22,23,27,33,34,35,36,37,49,50) have mixed types. Specify dtype option on import or set low_memory=False.\n",
      "  data_list.append(pd.read_csv(file_name))\n",
      "/var/folders/zx/w0khk41x0xl08sdt7j90tmr80000gn/T/ipykernel_10853/4196643420.py:10: DtypeWarning: Columns (8,17,27,33,34,35,36,37,43,44,47,48,50,58,61,90,91,92,93,94,95,96,97,98,99,100,101,108,111) have mixed types. Specify dtype option on import or set low_memory=False.\n",
      "  data_list.append(pd.read_csv(file_name))\n"
     ]
    },
    {
     "name": "stdout",
     "output_type": "stream",
     "text": [
      "File data/climate/df_climate_kit_carson is written!!!\n"
     ]
    },
    {
     "name": "stderr",
     "output_type": "stream",
     "text": [
      "/var/folders/zx/w0khk41x0xl08sdt7j90tmr80000gn/T/ipykernel_10853/4196643420.py:10: DtypeWarning: Columns (18,64,78) have mixed types. Specify dtype option on import or set low_memory=False.\n",
      "  data_list.append(pd.read_csv(file_name))\n",
      "/var/folders/zx/w0khk41x0xl08sdt7j90tmr80000gn/T/ipykernel_10853/4196643420.py:10: DtypeWarning: Columns (17,77) have mixed types. Specify dtype option on import or set low_memory=False.\n",
      "  data_list.append(pd.read_csv(file_name))\n",
      "/var/folders/zx/w0khk41x0xl08sdt7j90tmr80000gn/T/ipykernel_10853/4196643420.py:10: DtypeWarning: Columns (18,19) have mixed types. Specify dtype option on import or set low_memory=False.\n",
      "  data_list.append(pd.read_csv(file_name))\n",
      "/var/folders/zx/w0khk41x0xl08sdt7j90tmr80000gn/T/ipykernel_10853/4196643420.py:10: DtypeWarning: Columns (8,17,18,23,62,64,78) have mixed types. Specify dtype option on import or set low_memory=False.\n",
      "  data_list.append(pd.read_csv(file_name))\n",
      "/var/folders/zx/w0khk41x0xl08sdt7j90tmr80000gn/T/ipykernel_10853/4196643420.py:10: DtypeWarning: Columns (8,17,18) have mixed types. Specify dtype option on import or set low_memory=False.\n",
      "  data_list.append(pd.read_csv(file_name))\n",
      "/var/folders/zx/w0khk41x0xl08sdt7j90tmr80000gn/T/ipykernel_10853/4196643420.py:10: DtypeWarning: Columns (18,62) have mixed types. Specify dtype option on import or set low_memory=False.\n",
      "  data_list.append(pd.read_csv(file_name))\n",
      "/var/folders/zx/w0khk41x0xl08sdt7j90tmr80000gn/T/ipykernel_10853/4196643420.py:10: DtypeWarning: Columns (8,17,18,62) have mixed types. Specify dtype option on import or set low_memory=False.\n",
      "  data_list.append(pd.read_csv(file_name))\n",
      "/var/folders/zx/w0khk41x0xl08sdt7j90tmr80000gn/T/ipykernel_10853/4196643420.py:10: DtypeWarning: Columns (8,17,64) have mixed types. Specify dtype option on import or set low_memory=False.\n",
      "  data_list.append(pd.read_csv(file_name))\n"
     ]
    },
    {
     "name": "stdout",
     "output_type": "stream",
     "text": [
      "File data/climate/df_climate_pueblo is written!!!\n"
     ]
    }
   ],
   "source": [
    "for station, id in stations.items():\n",
    "\n",
    "    station_id = id\n",
    "\n",
    "    data_list = []\n",
    "\n",
    "    for year in years:\n",
    "        file_name = 'data/source/'+station_id+'_'+year+'.csv'\n",
    "\n",
    "        data_list.append(pd.read_csv(file_name))\n",
    "\n",
    "    df = pd.concat(data_list)\n",
    "\n",
    "    df = df[['STATION', 'DATE', 'LATITUDE', 'LONGITUDE', 'NAME', 'DailyAverageDryBulbTemperature','DailyPrecipitation']]\n",
    "\n",
    "    df.rename(columns = {'DailyAverageDryBulbTemperature': 'avgTempF',\n",
    "                         'DailyPrecipitation': 'precpInch'},\n",
    "             inplace=True)\n",
    "    \n",
    "    df.columns = df.columns.str.lower()\n",
    "    df = df.dropna(axis=0).reset_index()\n",
    "    df.drop('index',axis=1, inplace=True)\n",
    "\n",
    "    df['date'] = pd.to_datetime(df['date'])\n",
    "    \n",
    "    if station == 'kit_carson_station_id':\n",
    "        df['avgtempf'] = df['avgtempf'].str.replace('s', '')\n",
    "\n",
    "    df['precpinch'] = df['precpinch'].apply(lambda x: x.split('s')[0].strip())\n",
    "    \n",
    "\n",
    "    df['precpinch'] = df['precpinch'].replace('T', 0.00)\n",
    "\n",
    "    df['precpinch'] = pd.to_numeric(df['precpinch'])\n",
    "    df['avgtempf'] = pd.to_numeric(df['avgtempf'])\n",
    "\n",
    "\n",
    "    df.to_parquet('data/climate/df_climate_'+station.split('_station')[0]+'.parquet')\n",
    "    print('File data/climate/df_climate_'+station.split('_station')[0]+' is written!!!')\n",
    "\n",
    "    del df"
   ]
  },
  {
   "cell_type": "code",
   "execution_count": 5,
   "metadata": {},
   "outputs": [
    {
     "name": "stdout",
     "output_type": "stream",
     "text": [
      "File  is written!!!\n"
     ]
    },
    {
     "name": "stderr",
     "output_type": "stream",
     "text": [
      "/var/folders/zx/w0khk41x0xl08sdt7j90tmr80000gn/T/ipykernel_16583/3774422680.py:12: DtypeWarning: Columns (7,18,38,39,64) have mixed types. Specify dtype option on import or set low_memory=False.\n",
      "  df = pd.read_csv(file_name)\n"
     ]
    }
   ],
   "source": [
    "# Creating test data for Muddy Creek, 2023\n",
    "\n",
    "\n",
    "station_id = stations['muddy_creek_station_id']\n",
    "\n",
    "data_list = []\n",
    "\n",
    "year = '2023'\n",
    "\n",
    "file_name = 'data/source/'+station_id+'_'+year+'.csv'\n",
    "\n",
    "df = pd.read_csv(file_name)\n",
    "\n",
    "df = df[['STATION', 'DATE', 'LATITUDE', 'LONGITUDE', 'NAME', 'DailyAverageDryBulbTemperature','DailyPrecipitation']]\n",
    "\n",
    "df.rename(columns = {'DailyAverageDryBulbTemperature': 'avgTempF',\n",
    "                        'DailyPrecipitation': 'precpInch'},\n",
    "            inplace=True)\n",
    "\n",
    "df.columns = df.columns.str.lower()\n",
    "df = df.dropna(axis=0).reset_index()\n",
    "df.drop('index',axis=1, inplace=True)\n",
    "\n",
    "df['date'] = pd.to_datetime(df['date'])\n",
    "\n",
    "df['precpinch'] = df['precpinch'].apply(lambda x: x.split('s')[0].strip())\n",
    "\n",
    "\n",
    "df['precpinch'] = df['precpinch'].replace('T', 0.00)\n",
    "\n",
    "df['precpinch'] = pd.to_numeric(df['precpinch'])\n",
    "df['avgtempf'] = pd.to_numeric(df['avgtempf'])\n",
    "\n",
    "\n",
    "df.to_parquet('data/climate/df_climate_muddy_creek_test.parquet')\n",
    "print('File  is written!!!')\n",
    "\n",
    "del df"
   ]
  },
  {
   "cell_type": "code",
   "execution_count": 6,
   "metadata": {},
   "outputs": [
    {
     "name": "stdout",
     "output_type": "stream",
     "text": [
      "File  is written!!!\n"
     ]
    },
    {
     "name": "stderr",
     "output_type": "stream",
     "text": [
      "/var/folders/zx/w0khk41x0xl08sdt7j90tmr80000gn/T/ipykernel_16583/1406430034.py:12: DtypeWarning: Columns (7,17,19,38,39,62,64,78) have mixed types. Specify dtype option on import or set low_memory=False.\n",
      "  df = pd.read_csv(file_name)\n"
     ]
    }
   ],
   "source": [
    "# Creating test data for Pueblo, 2023\n",
    "\n",
    "\n",
    "station_id = stations['pueblo_station_id']\n",
    "\n",
    "data_list = []\n",
    "\n",
    "year = '2023'\n",
    "\n",
    "file_name = 'data/source/'+station_id+'_'+year+'.csv'\n",
    "\n",
    "df = pd.read_csv(file_name)\n",
    "\n",
    "df = df[['STATION', 'DATE', 'LATITUDE', 'LONGITUDE', 'NAME', 'DailyAverageDryBulbTemperature','DailyPrecipitation']]\n",
    "\n",
    "df.rename(columns = {'DailyAverageDryBulbTemperature': 'avgTempF',\n",
    "                        'DailyPrecipitation': 'precpInch'},\n",
    "            inplace=True)\n",
    "\n",
    "df.columns = df.columns.str.lower()\n",
    "df = df.dropna(axis=0).reset_index()\n",
    "df.drop('index',axis=1, inplace=True)\n",
    "\n",
    "df['date'] = pd.to_datetime(df['date'])\n",
    "\n",
    "df['precpinch'] = df['precpinch'].apply(lambda x: x.split('s')[0].strip())\n",
    "\n",
    "\n",
    "df['precpinch'] = df['precpinch'].replace('T', 0.00)\n",
    "\n",
    "df['precpinch'] = pd.to_numeric(df['precpinch'])\n",
    "df['avgtempf'] = pd.to_numeric(df['avgtempf'])\n",
    "\n",
    "\n",
    "df.to_parquet('data/climate/df_climate_pueblo_test.parquet')\n",
    "print('File  is written!!!')\n",
    "\n",
    "del df"
   ]
  },
  {
   "cell_type": "code",
   "execution_count": null,
   "metadata": {},
   "outputs": [],
   "source": []
  }
 ],
 "metadata": {
  "kernelspec": {
   "display_name": "pythonenv",
   "language": "python",
   "name": "python3"
  },
  "language_info": {
   "codemirror_mode": {
    "name": "ipython",
    "version": 3
   },
   "file_extension": ".py",
   "mimetype": "text/x-python",
   "name": "python",
   "nbconvert_exporter": "python",
   "pygments_lexer": "ipython3",
   "version": "3.10.13"
  }
 },
 "nbformat": 4,
 "nbformat_minor": 2
}
